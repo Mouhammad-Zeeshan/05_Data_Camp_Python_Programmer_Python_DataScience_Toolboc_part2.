{
 "cells": [
  {
   "cell_type": "markdown",
   "id": "3d6e0c5f",
   "metadata": {},
   "source": [
    "# Case Study:\n"
   ]
  },
  {
   "cell_type": "markdown",
   "id": "5185c3ef",
   "metadata": {},
   "source": [
    "## World Bank Data Set: "
   ]
  },
  {
   "cell_type": "code",
   "execution_count": 1,
   "id": "b98dece6",
   "metadata": {},
   "outputs": [],
   "source": [
    "feature_names =['CountryName', 'CountryCode', 'IndicatorName', 'IndicatorCode', 'Year', 'Value']"
   ]
  },
  {
   "cell_type": "code",
   "execution_count": 2,
   "id": "e649d3c2",
   "metadata": {},
   "outputs": [],
   "source": [
    "row_vals = ['Arab World', 'ARB', 'Adolescent fertility rate (births per 1,000 women ages 15-19)', 'SP.ADO.TFRT', '1960', '133.56090740552298']"
   ]
  },
  {
   "cell_type": "code",
   "execution_count": null,
   "id": "456377ce",
   "metadata": {},
   "outputs": [],
   "source": []
  },
  {
   "cell_type": "code",
   "execution_count": 3,
   "id": "effec086",
   "metadata": {},
   "outputs": [
    {
     "name": "stdout",
     "output_type": "stream",
     "text": [
      "{'CountryName': 'Arab World', 'CountryCode': 'ARB', 'IndicatorName': 'Adolescent fertility rate (births per 1,000 women ages 15-19)', 'IndicatorCode': 'SP.ADO.TFRT', 'Year': '1960', 'Value': '133.56090740552298'}\n"
     ]
    }
   ],
   "source": [
    "# # Zip lists: zipped_lists\n",
    "# zipped_lists = zip(feature_names,row_vals)\n",
    "\n",
    "# # Create a dictionary: rs_dict\n",
    "# rs_dict = dict(zipped_lists)\n",
    "\n",
    "# # Print the dictionary\n",
    "# print(rs_dict)\n"
   ]
  },
  {
   "cell_type": "code",
   "execution_count": 7,
   "id": "81111c1a",
   "metadata": {},
   "outputs": [
    {
     "name": "stdout",
     "output_type": "stream",
     "text": [
      "CountryName : Arab World\n",
      "CountryCode : ARB\n",
      "IndicatorName : Adolescent fertility rate (births per 1,000 women ages 15-19)\n",
      "IndicatorCode : SP.ADO.TFRT\n",
      "Year : 1960\n",
      "Value : 133.56090740552298\n"
     ]
    }
   ],
   "source": [
    "for i,k in rs_dict.items():\n",
    "    print(i,\":\",k)"
   ]
  },
  {
   "cell_type": "code",
   "execution_count": null,
   "id": "61f7e69e",
   "metadata": {},
   "outputs": [],
   "source": []
  },
  {
   "cell_type": "code",
   "execution_count": 21,
   "id": "9c2daeff",
   "metadata": {},
   "outputs": [
    {
     "name": "stdout",
     "output_type": "stream",
     "text": [
      "{'CountryName': 'Arab World', 'CountryCode': 'ARB', 'IndicatorName': 'Adolescent fertility rate (births per 1,000 women ages 15-19)', 'IndicatorCode': 'SP.ADO.TFRT', 'Year': '1960', 'Value': '133.56090740552298'}\n"
     ]
    }
   ],
   "source": [
    "# Define lists2dict()\n",
    "def list2dict(list1, list2):\n",
    "    \"\"\"Return a dictionary where list1 provides\n",
    "    the keys and list2 provides the values.\"\"\"\n",
    "\n",
    "    # Zip lists: zipped_lists\n",
    "    zipped_lists = zip(list1, list2)\n",
    "\n",
    "    # Create a dictionary: rs_dict\n",
    "    rs_dict = dict(zipped_lists)\n",
    "\n",
    "    # Return the dictionary\n",
    "    return rs_dict\n",
    "\n",
    "# Call lists2dict: rs_fxn\n",
    "rs_fxn = list2dict(feature_names,row_vals)\n",
    "\n",
    "# Print rs_fxn\n",
    "print(rs_fxn)"
   ]
  },
  {
   "cell_type": "code",
   "execution_count": null,
   "id": "0686be61",
   "metadata": {},
   "outputs": [],
   "source": []
  },
  {
   "cell_type": "code",
   "execution_count": 22,
   "id": "babb4ae0",
   "metadata": {},
   "outputs": [],
   "source": [
    "row_lists = [['Arab World', 'ARB', 'Adolescent fertility rate (births per 1,000 women ages 15-19)', 'SP.ADO.TFRT', '1960', '133.56090740552298'], ['Arab World', 'ARB', 'Age dependency ratio (% of working-age population)', 'SP.POP.DPND', '1960', '87.7976011532547'], ['Arab World', 'ARB', 'Age dependency ratio, old (% of working-age population)', 'SP.POP.DPND.OL', '1960', '6.634579191565161'], ['Arab World', 'ARB', 'Age dependency ratio, young (% of working-age population)', 'SP.POP.DPND.YG', '1960', '81.02332950839141'], ['Arab World', 'ARB', 'Arms exports (SIPRI trend indicator values)', 'MS.MIL.XPRT.KD', '1960', '3000000.0'], ['Arab World', 'ARB', 'Arms imports (SIPRI trend indicator values)', 'MS.MIL.MPRT.KD', '1960', '538000000.0'], ['Arab World', 'ARB', 'Birth rate, crude (per 1,000 people)', 'SP.DYN.CBRT.IN', '1960', '47.697888095096395'], ['Arab World', 'ARB', 'CO2 emissions (kt)', 'EN.ATM.CO2E.KT', '1960', '59563.9892169935'], ['Arab World', 'ARB', 'CO2 emissions (metric tons per capita)', 'EN.ATM.CO2E.PC', '1960', '0.6439635478877049'], ['Arab World', 'ARB', 'CO2 emissions from gaseous fuel consumption (% of total)', 'EN.ATM.CO2E.GF.ZS', '1960', '5.041291753975099'], ['Arab World', 'ARB', 'CO2 emissions from liquid fuel consumption (% of total)', 'EN.ATM.CO2E.LF.ZS', '1960', '84.8514729446567'], ['Arab World', 'ARB', 'CO2 emissions from liquid fuel consumption (kt)', 'EN.ATM.CO2E.LF.KT', '1960', '49541.707291032304'], ['Arab World', 'ARB', 'CO2 emissions from solid fuel consumption (% of total)', 'EN.ATM.CO2E.SF.ZS', '1960', '4.72698138789597'], ['Arab World', 'ARB', 'Death rate, crude (per 1,000 people)', 'SP.DYN.CDRT.IN', '1960', '19.7544519237187'], ['Arab World', 'ARB', 'Fertility rate, total (births per woman)', 'SP.DYN.TFRT.IN', '1960', '6.92402738655897'], ['Arab World', 'ARB', 'Fixed telephone subscriptions', 'IT.MLT.MAIN', '1960', '406833.0'], ['Arab World', 'ARB', 'Fixed telephone subscriptions (per 100 people)', 'IT.MLT.MAIN.P2', '1960', '0.6167005703199'], ['Arab World', 'ARB', 'Hospital beds (per 1,000 people)', 'SH.MED.BEDS.ZS', '1960', '1.9296220724398703'], ['Arab World', 'ARB', 'International migrant stock (% of population)', 'SM.POP.TOTL.ZS', '1960', '2.9906371279862403'], ['Arab World', 'ARB', 'International migrant stock, total', 'SM.POP.TOTL', '1960', '3324685.0']]"
   ]
  },
  {
   "cell_type": "code",
   "execution_count": null,
   "id": "b2d13f6c",
   "metadata": {},
   "outputs": [],
   "source": []
  },
  {
   "cell_type": "code",
   "execution_count": 23,
   "id": "e2b1d89b",
   "metadata": {},
   "outputs": [
    {
     "data": {
      "text/plain": [
       "['Arab World',\n",
       " 'ARB',\n",
       " 'Age dependency ratio (% of working-age population)',\n",
       " 'SP.POP.DPND',\n",
       " '1960',\n",
       " '87.7976011532547']"
      ]
     },
     "execution_count": 23,
     "metadata": {},
     "output_type": "execute_result"
    }
   ],
   "source": [
    "row_lists[1]"
   ]
  },
  {
   "cell_type": "code",
   "execution_count": 24,
   "id": "b318c010",
   "metadata": {},
   "outputs": [
    {
     "name": "stdout",
     "output_type": "stream",
     "text": [
      "['CountryName', 'CountryCode', 'IndicatorName', 'IndicatorCode', 'Year', 'Value']\n"
     ]
    }
   ],
   "source": [
    "print(feature_names)"
   ]
  },
  {
   "cell_type": "code",
   "execution_count": 25,
   "id": "38ff497a",
   "metadata": {},
   "outputs": [
    {
     "data": {
      "text/plain": [
       "['Arab World',\n",
       " 'ARB',\n",
       " 'Age dependency ratio, old (% of working-age population)',\n",
       " 'SP.POP.DPND.OL',\n",
       " '1960',\n",
       " '6.634579191565161']"
      ]
     },
     "execution_count": 25,
     "metadata": {},
     "output_type": "execute_result"
    }
   ],
   "source": [
    "row_lists[2]"
   ]
  },
  {
   "cell_type": "code",
   "execution_count": null,
   "id": "fb76115e",
   "metadata": {},
   "outputs": [],
   "source": []
  },
  {
   "cell_type": "code",
   "execution_count": 27,
   "id": "47149b7e",
   "metadata": {},
   "outputs": [
    {
     "name": "stdout",
     "output_type": "stream",
     "text": [
      "['Arab World', 'ARB', 'Adolescent fertility rate (births per 1,000 women ages 15-19)', 'SP.ADO.TFRT', '1960', '133.56090740552298']\n",
      "['Arab World', 'ARB', 'Age dependency ratio (% of working-age population)', 'SP.POP.DPND', '1960', '87.7976011532547']\n",
      "{'CountryName': 'Arab World', 'CountryCode': 'ARB', 'IndicatorName': 'Adolescent fertility rate (births per 1,000 women ages 15-19)', 'IndicatorCode': 'SP.ADO.TFRT', 'Year': '1960', 'Value': '133.56090740552298'}\n",
      "{'CountryName': 'Arab World', 'CountryCode': 'ARB', 'IndicatorName': 'Age dependency ratio (% of working-age population)', 'IndicatorCode': 'SP.POP.DPND', 'Year': '1960', 'Value': '87.7976011532547'}\n"
     ]
    }
   ],
   "source": [
    "# Print the first two lists in row_lists\n",
    "print(row_lists[0])\n",
    "print(row_lists[1])\n",
    "\n",
    "# Turn list of lists into list of dicts: list_of_dicts\n",
    "list_of_dicts = [list2dict(feature_names,sublist)  for sublist in row_lists ]\n",
    " \n",
    "# Print the first two dictionaries in list_of_dicts\n",
    "print(list_of_dicts[0])\n",
    "print(list_of_dicts[1])"
   ]
  },
  {
   "cell_type": "code",
   "execution_count": null,
   "id": "4fc3a200",
   "metadata": {},
   "outputs": [],
   "source": []
  },
  {
   "cell_type": "code",
   "execution_count": null,
   "id": "d648292e",
   "metadata": {},
   "outputs": [],
   "source": []
  },
  {
   "cell_type": "code",
   "execution_count": 29,
   "id": "f8102117",
   "metadata": {},
   "outputs": [
    {
     "data": {
      "text/html": [
       "<div>\n",
       "<style scoped>\n",
       "    .dataframe tbody tr th:only-of-type {\n",
       "        vertical-align: middle;\n",
       "    }\n",
       "\n",
       "    .dataframe tbody tr th {\n",
       "        vertical-align: top;\n",
       "    }\n",
       "\n",
       "    .dataframe thead th {\n",
       "        text-align: right;\n",
       "    }\n",
       "</style>\n",
       "<table border=\"1\" class=\"dataframe\">\n",
       "  <thead>\n",
       "    <tr style=\"text-align: right;\">\n",
       "      <th></th>\n",
       "      <th>CountryName</th>\n",
       "      <th>CountryCode</th>\n",
       "      <th>IndicatorName</th>\n",
       "      <th>IndicatorCode</th>\n",
       "      <th>Year</th>\n",
       "      <th>Value</th>\n",
       "    </tr>\n",
       "  </thead>\n",
       "  <tbody>\n",
       "    <tr>\n",
       "      <th>0</th>\n",
       "      <td>Arab World</td>\n",
       "      <td>ARB</td>\n",
       "      <td>Adolescent fertility rate (births per 1,000 wo...</td>\n",
       "      <td>SP.ADO.TFRT</td>\n",
       "      <td>1960</td>\n",
       "      <td>133.56090740552298</td>\n",
       "    </tr>\n",
       "    <tr>\n",
       "      <th>1</th>\n",
       "      <td>Arab World</td>\n",
       "      <td>ARB</td>\n",
       "      <td>Age dependency ratio (% of working-age populat...</td>\n",
       "      <td>SP.POP.DPND</td>\n",
       "      <td>1960</td>\n",
       "      <td>87.7976011532547</td>\n",
       "    </tr>\n",
       "    <tr>\n",
       "      <th>2</th>\n",
       "      <td>Arab World</td>\n",
       "      <td>ARB</td>\n",
       "      <td>Age dependency ratio, old (% of working-age po...</td>\n",
       "      <td>SP.POP.DPND.OL</td>\n",
       "      <td>1960</td>\n",
       "      <td>6.634579191565161</td>\n",
       "    </tr>\n",
       "    <tr>\n",
       "      <th>3</th>\n",
       "      <td>Arab World</td>\n",
       "      <td>ARB</td>\n",
       "      <td>Age dependency ratio, young (% of working-age ...</td>\n",
       "      <td>SP.POP.DPND.YG</td>\n",
       "      <td>1960</td>\n",
       "      <td>81.02332950839141</td>\n",
       "    </tr>\n",
       "    <tr>\n",
       "      <th>4</th>\n",
       "      <td>Arab World</td>\n",
       "      <td>ARB</td>\n",
       "      <td>Arms exports (SIPRI trend indicator values)</td>\n",
       "      <td>MS.MIL.XPRT.KD</td>\n",
       "      <td>1960</td>\n",
       "      <td>3000000.0</td>\n",
       "    </tr>\n",
       "  </tbody>\n",
       "</table>\n",
       "</div>"
      ],
      "text/plain": [
       "  CountryName CountryCode                                      IndicatorName  \\\n",
       "0  Arab World         ARB  Adolescent fertility rate (births per 1,000 wo...   \n",
       "1  Arab World         ARB  Age dependency ratio (% of working-age populat...   \n",
       "2  Arab World         ARB  Age dependency ratio, old (% of working-age po...   \n",
       "3  Arab World         ARB  Age dependency ratio, young (% of working-age ...   \n",
       "4  Arab World         ARB        Arms exports (SIPRI trend indicator values)   \n",
       "\n",
       "    IndicatorCode  Year               Value  \n",
       "0     SP.ADO.TFRT  1960  133.56090740552298  \n",
       "1     SP.POP.DPND  1960    87.7976011532547  \n",
       "2  SP.POP.DPND.OL  1960   6.634579191565161  \n",
       "3  SP.POP.DPND.YG  1960   81.02332950839141  \n",
       "4  MS.MIL.XPRT.KD  1960           3000000.0  "
      ]
     },
     "execution_count": 29,
     "metadata": {},
     "output_type": "execute_result"
    }
   ],
   "source": [
    "# Import the pandas package\n",
    "import pandas as pd\n",
    "\n",
    "# Turn list of lists into list of dicts: list_of_dicts\n",
    "list_of_dicts = [list2dict(feature_names, sublist) for sublist in row_lists]\n",
    "\n",
    "# Turn list of dicts into a DataFrame: df\n",
    "df = pd.DataFrame(list_of_dicts)\n",
    "\n",
    "# Print the head of the DataFrame\n",
    "df.head()\n"
   ]
  },
  {
   "cell_type": "code",
   "execution_count": null,
   "id": "b121602e",
   "metadata": {},
   "outputs": [],
   "source": []
  },
  {
   "cell_type": "code",
   "execution_count": null,
   "id": "cec7db1c",
   "metadata": {},
   "outputs": [],
   "source": [
    "# # Open a connection to the file\n",
    "# with open('world_dev_ind.csv') as file:\n",
    "\n",
    "#     # Skip the column names\n",
    "#     file.readline(1000)\n",
    "\n",
    "#     # Initialize an empty dictionary: counts_dict\n",
    "#     counts_dict = {}\n",
    "\n",
    "#     # Process only the first 1000 rows\n",
    "#     for j in range(0,1000):\n",
    "\n",
    "#         # Split the current line into a list: line\n",
    "#         line = file.readline().split(',')\n",
    "\n",
    "#         # Get the value for the first column: first_col\n",
    "#         first_col = line[0]\n",
    "\n",
    "#         # If the column value is in the dict, increment its value\n",
    "#         if first_col in counts_dict.keys():\n",
    "#             counts_dict[first_col] += 1\n",
    "\n",
    "#         # Else, add to the dict and set value to 1\n",
    "#         else:\n",
    "#             counts_dict[first_col] = 1\n",
    "\n",
    "# # Print the resulting dictionary\n",
    "# print(counts_dict)"
   ]
  },
  {
   "cell_type": "code",
   "execution_count": null,
   "id": "b0d1ddd9",
   "metadata": {},
   "outputs": [],
   "source": []
  },
  {
   "cell_type": "code",
   "execution_count": null,
   "id": "fc0caf1c",
   "metadata": {},
   "outputs": [],
   "source": [
    "# # Define read_large_file()\n",
    "# def read_large_file(file_object):\n",
    "#     \"\"\"A generator function to read a large file lazily.\"\"\"\n",
    "\n",
    "#     # Loop indefinitely until the end of the file\n",
    "#     while True:\n",
    "\n",
    "#         # Read a line from the file: data\n",
    "#         data = file_object.readline()\n",
    "\n",
    "#         # Break if this is the end of the file\n",
    "#         if not data:\n",
    "#             break\n",
    "\n",
    "#         # Yield the line of data\n",
    "#         yield data\n",
    "        \n",
    "# # Open a connection to the file\n",
    "# with open('world_dev_ind.csv') as file:\n",
    "\n",
    "#     # Create a generator object for the file: gen_file\n",
    "#     gen_file = read_large_file(file)\n",
    "\n",
    "#     # Print the first three lines of the file\n",
    "#     print(next(gen_file))\n",
    "#     print(next(gen_file))\n",
    "#     print(next(gen_file))"
   ]
  },
  {
   "cell_type": "code",
   "execution_count": null,
   "id": "cc7ff894",
   "metadata": {},
   "outputs": [],
   "source": []
  },
  {
   "cell_type": "code",
   "execution_count": null,
   "id": "36c135b3",
   "metadata": {},
   "outputs": [],
   "source": [
    "# # Initialize an empty dictionary: counts_dict\n",
    "# counts_dict = {}\n",
    "\n",
    "# # Open a connection to the file\n",
    "# with open(\"world_dev_ind.csv\") as file:\n",
    "\n",
    "#     # Iterate over the generator from read_large_file()\n",
    "#     for line in read_large_file(file):\n",
    "\n",
    "#         row = line.split(',')\n",
    "#         first_col = row[0]\n",
    "\n",
    "#         if first_col in counts_dict.keys():\n",
    "#             counts_dict[first_col] += 1\n",
    "#         else:\n",
    "#             counts_dict[first_col] = 1\n",
    "\n",
    "# # Print            \n",
    "# print(counts_dict)"
   ]
  },
  {
   "cell_type": "code",
   "execution_count": null,
   "id": "4468c8f2",
   "metadata": {},
   "outputs": [],
   "source": []
  },
  {
   "cell_type": "code",
   "execution_count": null,
   "id": "252705d1",
   "metadata": {},
   "outputs": [],
   "source": [
    "# # Import the pandas package\n",
    "# import pandas as pd\n",
    "\n",
    "# # Initialize reader object: df_reader\n",
    "# df_reader = pd.read_csv('ind_pop.csv', chunksize = 10)\n",
    "\n",
    "# # Print two chunks\n",
    "# print(next(df_reader))\n",
    "# print(next(df_reader))"
   ]
  },
  {
   "cell_type": "code",
   "execution_count": null,
   "id": "bd7118b7",
   "metadata": {},
   "outputs": [],
   "source": []
  },
  {
   "cell_type": "code",
   "execution_count": null,
   "id": "0a0fc055",
   "metadata": {},
   "outputs": [],
   "source": [
    "# # Initialize reader object: urb_pop_reader\n",
    "# urb_pop_reader = pd.read_csv(\"ind_pop_data.csv\", chunksize = 1000)\n",
    "\n",
    "# # Get the first DataFrame chunk: df_urb_pop\n",
    "# df_urb_pop = next(urb_pop_reader)\n",
    "\n",
    "# # Check out the head of the DataFrame\n",
    "# print(df_urb_pop.head()) \n",
    "\n",
    "# # Check out specific country: df_pop_ceb\n",
    "# df_pop_ceb = df_urb_pop[df_urb_pop[\"CountryCode\"]==\"CEB\"]\n",
    "\n",
    "# # Zip DataFrame columns of interest: pops\n",
    "# pops = zip(df_pop_ceb[\"Total Population\"],df_pop_ceb[\"Urban population (% of total)\"] )\n",
    "\n",
    "# # Turn zip object into list: pops_list\n",
    "# pops_list = list(pops) \n",
    "\n",
    "# # Print pops_list\n",
    "# print(pops_list)"
   ]
  },
  {
   "cell_type": "code",
   "execution_count": null,
   "id": "ca2912c1",
   "metadata": {},
   "outputs": [],
   "source": []
  },
  {
   "cell_type": "code",
   "execution_count": null,
   "id": "4575ec05",
   "metadata": {},
   "outputs": [],
   "source": [
    "# # Code from previous exercise\n",
    "# urb_pop_reader = pd.read_csv('ind_pop_data.csv', chunksize=1000)\n",
    "# df_urb_pop = next(urb_pop_reader)\n",
    "# df_pop_ceb = df_urb_pop[df_urb_pop['CountryCode'] == 'CEB']\n",
    "# pops = zip(df_pop_ceb['Total Population'], \n",
    "#            df_pop_ceb['Urban population (% of total)'])\n",
    "# pops_list = list(pops)\n",
    "\n",
    "# # Use list comprehension to create new DataFrame column 'Total Urban Population'\n",
    "# df_pop_ceb['Total Urban Population'] = [int(tup[0] * tup[1] * 0.01) for tup in pops_list]\n",
    "\n",
    "# # Plot urban population data\n",
    "# df_pop_ceb.plot(kind='scatter', x='Year', y='Total Urban Population')\n",
    "# plt.show()"
   ]
  },
  {
   "cell_type": "code",
   "execution_count": null,
   "id": "334e8198",
   "metadata": {},
   "outputs": [],
   "source": [
    "# # Initialize reader object: urb_pop_reader\n",
    "# urb_pop_reader = pd.read_csv('ind_pop_data.csv', chunksize=1000)\n",
    "\n",
    "# # Initialize empty DataFrame: data\n",
    "# data = pd.DataFrame()\n",
    "\n",
    "# # Iterate over each DataFrame chunk\n",
    "# for df_urb_pop in urb_pop_reader:\n",
    "\n",
    "#     # Check out specific country: df_pop_ceb\n",
    "#     df_pop_ceb = df_urb_pop[df_urb_pop['CountryCode'] == 'CEB']\n",
    "\n",
    "#     # Zip DataFrame columns of interest: pops\n",
    "#     pops = zip(df_pop_ceb['Total Population'],\n",
    "#                 df_pop_ceb['Urban population (% of total)'])\n",
    "\n",
    "#     # Turn zip object into list: pops_list\n",
    "#     pops_list = list(pops)\n",
    "\n",
    "#     # Use list comprehension to create new DataFrame column 'Total Urban Population'\n",
    "#     df_pop_ceb['Total Urban Population'] = [int(tup[0] * tup[1] * 0.01) for tup in pops_list]\n",
    "    \n",
    "#     # Append DataFrame chunk to data: data\n",
    "#     data = data.append(df_pop_ceb)\n",
    "\n",
    "# # Plot urban population data\n",
    "# data.plot(kind='scatter', x='Year', y='Total Urban Population')\n",
    "# plt.show()\n"
   ]
  },
  {
   "cell_type": "code",
   "execution_count": null,
   "id": "61c4c6d4",
   "metadata": {},
   "outputs": [],
   "source": []
  },
  {
   "cell_type": "code",
   "execution_count": null,
   "id": "27619742",
   "metadata": {},
   "outputs": [],
   "source": [
    "# # Define plot_pop()\n",
    "# def plot_pop(filename, country_code):\n",
    "\n",
    "#     # Initialize reader object: urb_pop_reader\n",
    "#     urb_pop_reader = pd.read_csv(filename, chunksize=1000)\n",
    "\n",
    "#     # Initialize empty DataFrame: data\n",
    "#     data = pd.DataFrame()\n",
    "    \n",
    "#     # Iterate over each DataFrame chunk \n",
    "#     for df_urb_pop in urb_pop_reader:\n",
    "#         # Check out specific country: df_pop_ceb\n",
    "#         df_pop_ceb = df_urb_pop[df_urb_pop['CountryCode'] == country_code]\n",
    "\n",
    "#         # Zip DataFrame columns of interest: pops\n",
    "#         pops = zip(df_pop_ceb['Total Population'],\n",
    "#                     df_pop_ceb['Urban population (% of total)'])\n",
    "\n",
    "#         # Turn zip object into list: pops_list\n",
    "#         pops_list = list(pops)\n",
    "\n",
    "#         # Use list comprehension to create new DataFrame column 'Total Urban Population'\n",
    "#         df_pop_ceb['Total Urban Population'] = [int(tup[0] * tup[1] * 0.01) for tup in pops_list]\n",
    "    \n",
    "#         # Append DataFrame chunk to data: data\n",
    "#         data = data.append(df_pop_ceb)\n",
    "\n",
    "#     # Plot urban population data\n",
    "#     data.plot(kind='scatter', x='Year', y='Total Urban Population')\n",
    "#     plt.show()\n",
    "\n",
    "# # Set the filename: fn\n",
    "# fn = 'ind_pop_data.csv'\n",
    "\n",
    "# # Call plot_pop for country code 'CEB'\n",
    "# plot_pop(fn, \"CEB\")\n",
    "\n",
    "# # Call plot_pop for country code 'ARB'\n",
    "# plot_pop(fn, \"ARB\")\n"
   ]
  }
 ],
 "metadata": {
  "kernelspec": {
   "display_name": "Python 3 (ipykernel)",
   "language": "python",
   "name": "python3"
  },
  "language_info": {
   "codemirror_mode": {
    "name": "ipython",
    "version": 3
   },
   "file_extension": ".py",
   "mimetype": "text/x-python",
   "name": "python",
   "nbconvert_exporter": "python",
   "pygments_lexer": "ipython3",
   "version": "3.9.12"
  }
 },
 "nbformat": 4,
 "nbformat_minor": 5
}
